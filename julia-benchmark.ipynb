{
 "cells": [
  {
   "cell_type": "code",
   "execution_count": 1,
   "metadata": {
    "collapsed": false
   },
   "outputs": [
    {
     "name": "stdout",
     "output_type": "stream",
     "text": [
      "init fx\n"
     ]
    },
    {
     "name": "stdout",
     "output_type": "stream",
     "text": [
      "CPU times: user 11.3 s, sys: 228 ms, total: 11.6 s\n",
      "Wall time: 12.8 s\n"
     ]
    }
   ],
   "source": [
    "#non-numba verion\n",
    "import cplane_np_hw as cp\n",
    "\n",
    "%time a = cp.JuliaPlane(c =(-2,2,2000,-2,2,2000), d = 0.3)"
   ]
  },
  {
   "cell_type": "code",
   "execution_count": 1,
   "metadata": {
    "collapsed": false
   },
   "outputs": [
    {
     "name": "stdout",
     "output_type": "stream",
     "text": [
      "init fx\n"
     ]
    },
    {
     "name": "stdout",
     "output_type": "stream",
     "text": [
      "CPU times: user 872 ms, sys: 96 ms, total: 968 ms\n",
      "Wall time: 1.01 s\n"
     ]
    }
   ],
   "source": [
    "#numba verion\n",
    "import cplane_np_hw as cp\n",
    "%time a = cp.JuliaPlane(c =(-2,2,2000,-2,2,2000), d = 0.3)"
   ]
  },
  {
   "cell_type": "markdown",
   "metadata": {
    "collapsed": false
   },
   "source": [
    "# Benchmarking\n",
    "The numba version of this code ran in less than 1 second (968ms) it's over 10 times faster than the original version."
   ]
  }
 ],
 "metadata": {
  "kernelspec": {
   "display_name": "Python 3 (Anaconda)",
   "language": "python",
   "name": "anaconda3"
  },
  "language_info": {
   "codemirror_mode": {
    "name": "ipython",
    "version": 3
   },
   "file_extension": ".py",
   "mimetype": "text/x-python",
   "name": "python",
   "nbconvert_exporter": "python",
   "pygments_lexer": "ipython3",
   "version": "3.5.4"
  }
 },
 "nbformat": 4,
 "nbformat_minor": 0
}